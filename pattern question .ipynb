{
 "cells": [
  {
   "cell_type": "code",
   "execution_count": 12,
   "id": "89c160be",
   "metadata": {},
   "outputs": [],
   "source": [
    "##Sum of Even Numbers till N "
   ]
  },
  {
   "cell_type": "code",
   "execution_count": 13,
   "id": "220f5959",
   "metadata": {},
   "outputs": [
    {
     "name": "stdout",
     "output_type": "stream",
     "text": [
      "enter the number:2\n",
      "2\n"
     ]
    }
   ],
   "source": [
    "n=int(input(\"enter the number:\"))\n",
    "i=0\n",
    "sum=0\n",
    "while i<=n:\n",
    "    sum=sum+i\n",
    "    i=i+2\n",
    "print(sum)"
   ]
  },
  {
   "cell_type": "code",
   "execution_count": 14,
   "id": "1449bff4",
   "metadata": {},
   "outputs": [],
   "source": [
    "# check the prime number or not "
   ]
  },
  {
   "cell_type": "code",
   "execution_count": 15,
   "id": "e4882fa4",
   "metadata": {},
   "outputs": [
    {
     "name": "stdout",
     "output_type": "stream",
     "text": [
      "enter the number13\n",
      "it it prime \n"
     ]
    }
   ],
   "source": [
    "n=int(input(\"enter the number\"))\n",
    "flag=False\n",
    "d=2\n",
    "while d<n:\n",
    "    if n%d==0:\n",
    "        flag=True \n",
    "    d+=1\n",
    "if flag:\n",
    "    print(\"it is not  prime number \")\n",
    "else:\n",
    "    print(\"it it prime \")\n",
    "\n"
   ]
  },
  {
   "cell_type": "code",
   "execution_count": 16,
   "id": "5834bbfa",
   "metadata": {},
   "outputs": [
    {
     "name": "stdout",
     "output_type": "stream",
     "text": [
      "enter the number:12\n"
     ]
    }
   ],
   "source": [
    "number=int(input(\"enter the number:\"))\n",
    "try:\n",
    "    if number==1:\n",
    "        a=int(input(\"enter the number:\"))\n",
    "        b=int(input(\"enter the number:\"))\n",
    "        c=a+b\n",
    "        print (\"addition of two number is:\",c)\n",
    "    elif number==2:\n",
    "        a=int(input(\"enter the number:\"))\n",
    "        b=int(input(\"enter the number:\"))\n",
    "        c=a-b\n",
    "        print (\"subtraction of two number :\",c)\n",
    "    elif number==3:\n",
    "        a=int(input(\"enter the number:\"))\n",
    "        b=int(input(\"enter the number:\"))\n",
    "        c=a*b\n",
    "        print (\"multiplication of two number:\",c)\n",
    "    elif number==4:\n",
    "        a=int(input(\"enter the number:\"))\n",
    "        b=int(input(\"enter the number:\"))\n",
    "        c=a/b\n",
    "        print (\"division of two number :\",c)\n",
    "except Exception as e:\n",
    "    print(\"invalid number \",e)\n",
    "    \n",
    "    \n",
    "\n",
    "    \n",
    "    "
   ]
  },
  {
   "cell_type": "code",
   "execution_count": 17,
   "id": "ca852d48",
   "metadata": {},
   "outputs": [
    {
     "name": "stdout",
     "output_type": "stream",
     "text": [
      "enter the number from you want revrse 123\n",
      "inf\n"
     ]
    }
   ],
   "source": [
    "number=int(input(\"enter the number from you want revrse \"))\n",
    "temp=number\n",
    "rev=0\n",
    "while temp>0:\n",
    "    n=temp%10\n",
    "    temp=temp/10\n",
    "    rev=rev*10+n\n",
    "print(rev)"
   ]
  },
  {
   "cell_type": "markdown",
   "id": "9b4a752d",
   "metadata": {},
   "source": [
    "You are given an input integer N, and you have to calculate the sum of itsodd and even digits separately.For example, if the given number is 24321, then sum of it’s even digit=2+4+2=8 and odddigits=3+1=4"
   ]
  },
  {
   "cell_type": "code",
   "execution_count": 26,
   "id": "d3086120",
   "metadata": {},
   "outputs": [
    {
     "name": "stdout",
     "output_type": "stream",
     "text": [
      "enter the number456\n",
      "even \n",
      "even sum: 6 odd sum: 10.666666666666671\n"
     ]
    }
   ],
   "source": [
    "n=int(input(\"enter the number\"))\n",
    "even_sum=0\n",
    "odd_sum=0\n",
    "while n>0:\n",
    "    lastdigit=n%10\n",
    "    if lastdigit%2==0:\n",
    "        print(\"even \")\n",
    "        even_sum=even_sum+lastdigit\n",
    "    else:\n",
    "        odd_sum=odd_sum+lastdigit\n",
    "        \n",
    "    n=n/10\n",
    "print(\"even sum:\",even_sum,\"odd sum:\",odd_sum)"
   ]
  },
  {
   "cell_type": "code",
   "execution_count": null,
   "id": "816ed242",
   "metadata": {},
   "outputs": [],
   "source": [
    "#check prime number from 2 to n "
   ]
  },
  {
   "cell_type": "code",
   "execution_count": 2,
   "id": "e27ecc40",
   "metadata": {},
   "outputs": [
    {
     "name": "stdout",
     "output_type": "stream",
     "text": [
      "enter the number:60\n",
      "2\n",
      "3\n",
      "5\n",
      "7\n",
      "11\n",
      "13\n",
      "17\n",
      "19\n",
      "23\n",
      "29\n",
      "31\n",
      "37\n",
      "41\n",
      "43\n",
      "47\n",
      "53\n",
      "59\n"
     ]
    }
   ],
   "source": [
    "n=int(input(\"enter the number:\"))\n",
    "k=2\n",
    "\n",
    "while k<=n:\n",
    "    d=2\n",
    "    flag=False\n",
    "    while d<k:\n",
    "        if k%d==0:\n",
    "            flag=True\n",
    "        d+=1\n",
    "    if not(flag):\n",
    "        print(k)\n",
    "        \n",
    "    k+=1\n",
    "   "
   ]
  },
  {
   "cell_type": "markdown",
   "id": "fb4cea79",
   "metadata": {},
   "source": [
    "# pattern Question "
   ]
  },
  {
   "cell_type": "raw",
   "id": "9df5c5d9",
   "metadata": {},
   "source": [
    "*****\n",
    "*****\n",
    "*****\n",
    "*****\n",
    "*****"
   ]
  },
  {
   "cell_type": "code",
   "execution_count": 20,
   "id": "03e44375",
   "metadata": {},
   "outputs": [
    {
     "name": "stdout",
     "output_type": "stream",
     "text": [
      "enter the number of rows: 5\n",
      "*****\n",
      "*****\n",
      "*****\n",
      "*****\n",
      "*****\n"
     ]
    }
   ],
   "source": [
    "n=int(input(\"enter the number of rows: \"))\n",
    "for i in range(1,n+1):\n",
    "    for j in range(1,n+1):\n",
    "        print(\"*\", end='') \n",
    "        j+=1\n",
    "    print()\n",
    "    i+=1\n",
    "    "
   ]
  },
  {
   "cell_type": "code",
   "execution_count": 22,
   "id": "14873f80",
   "metadata": {},
   "outputs": [
    {
     "name": "stdout",
     "output_type": "stream",
     "text": [
      "enter the number of rows  want 4\n",
      "####\n",
      "####\n",
      "####\n",
      "####\n"
     ]
    }
   ],
   "source": [
    "n=int(input(\"enter the number of rows  want \"))\n",
    "i=1\n",
    "while i<=n:\n",
    "    j=1\n",
    "    while j<=n:\n",
    "        print(\"#\",end='')\n",
    "        j+=1\n",
    "    print()\n",
    "    i+=1\n"
   ]
  },
  {
   "cell_type": "code",
   "execution_count": 25,
   "id": "3985c3bb",
   "metadata": {},
   "outputs": [
    {
     "name": "stdout",
     "output_type": "stream",
     "text": [
      "enter the number of rows :5\n",
      "4 4 4 4 4 \n",
      "4 4 4 4 4 \n",
      "4 4 4 4 4 \n",
      "4 4 4 4 4 \n",
      "4 4 4 4 4 \n"
     ]
    }
   ],
   "source": [
    "n=int(input(\"enter the number of rows :\"))\n",
    "i=1\n",
    "while i<=n:\n",
    "    for j in range(1,n+1):\n",
    "        print(\"4\",end=\" \")\n",
    "        j+=1\n",
    "    print()\n",
    "    i+=1\n",
    "    "
   ]
  },
  {
   "cell_type": "raw",
   "id": "23b23c9e",
   "metadata": {},
   "source": [
    "1111\n",
    "2222\n",
    "3333\n",
    "4444"
   ]
  },
  {
   "cell_type": "code",
   "execution_count": 28,
   "id": "ec088cdb",
   "metadata": {},
   "outputs": [
    {
     "name": "stdout",
     "output_type": "stream",
     "text": [
      "enter the number of rows:5\n",
      "11111\n",
      "22222\n",
      "33333\n",
      "44444\n",
      "55555\n"
     ]
    }
   ],
   "source": [
    "n=int(input(\"enter the number of rows:\"))\n",
    "i=1\n",
    "while i<=n:\n",
    "    j=1\n",
    "    while j<=n:\n",
    "        print(i ,end='')\n",
    "        j+=1\n",
    "    print()\n",
    "    i+=1\n",
    "    \n",
    "    "
   ]
  },
  {
   "cell_type": "raw",
   "id": "4be6f49e",
   "metadata": {},
   "source": [
    "1234\n",
    "1234\n",
    "1234\n",
    "1234"
   ]
  },
  {
   "cell_type": "code",
   "execution_count": 1,
   "id": "9e060e14",
   "metadata": {},
   "outputs": [
    {
     "name": "stdout",
     "output_type": "stream",
     "text": [
      "enter the number of rows:4\n",
      "1234\n",
      "1234\n",
      "1234\n",
      "1234\n"
     ]
    }
   ],
   "source": [
    "n=int(input(\"enter the number of rows:\"))\n",
    "i=1\n",
    "while i<=n:\n",
    "    j=1\n",
    "    while j<=n:\n",
    "        print(j ,end='')\n",
    "        j+=1\n",
    "    print()\n",
    "    i+=1"
   ]
  },
  {
   "cell_type": "raw",
   "id": "df07c417",
   "metadata": {},
   "source": [
    "4321\n",
    "4321\n",
    "4321\n",
    "4321"
   ]
  },
  {
   "cell_type": "code",
   "execution_count": 2,
   "id": "9416c70d",
   "metadata": {},
   "outputs": [
    {
     "name": "stdout",
     "output_type": "stream",
     "text": [
      "enter the number of rows:4\n",
      "4321\n",
      "4321\n",
      "4321\n",
      "4321\n"
     ]
    }
   ],
   "source": [
    "n=int(input(\"enter the number of rows:\"))\n",
    "i=1\n",
    "while i<=n:\n",
    "    j=1\n",
    "    while j<=n:\n",
    "        print(n-j+1 ,end='')\n",
    "        j+=1\n",
    "    print()\n",
    "    i+=1"
   ]
  },
  {
   "cell_type": "raw",
   "id": "2b564eb0",
   "metadata": {},
   "source": [
    "#pattern\n",
    "1\n",
    "1 2\n",
    "1 2 3\n",
    "1 2 3 4\n"
   ]
  },
  {
   "cell_type": "code",
   "execution_count": 3,
   "id": "a9f7b393",
   "metadata": {},
   "outputs": [
    {
     "name": "stdout",
     "output_type": "stream",
     "text": [
      "enter the number of rows 4\n",
      "1\n",
      "12\n",
      "123\n",
      "1234\n"
     ]
    }
   ],
   "source": [
    "n=int(input(\"enter the number of rows \"))\n",
    "i=1\n",
    "while i<=n:\n",
    "    j=1\n",
    "    while j<=i: # cloumn will start from ith rows\n",
    "        print(j,end='')\n",
    "        j+=1\n",
    "    print()\n",
    "    i+=1\n",
    "    "
   ]
  },
  {
   "cell_type": "raw",
   "id": "6217d07f",
   "metadata": {},
   "source": [
    "#pattern\n",
    "1\n",
    "23\n",
    "345\n",
    "4567\n",
    "56789\n",
    "67891011\n",
    "78910111213"
   ]
  },
  {
   "cell_type": "code",
   "execution_count": 4,
   "id": "6ca69f67",
   "metadata": {},
   "outputs": [
    {
     "name": "stdout",
     "output_type": "stream",
     "text": [
      "enter the number: 7\n",
      "1\n",
      "23\n",
      "345\n",
      "4567\n",
      "56789\n",
      "67891011\n",
      "78910111213\n"
     ]
    }
   ],
   "source": [
    "n=int(input(\"enter the number: \"))\n",
    "i=1\n",
    "while i<=n:\n",
    "    j=1\n",
    "    p=i\n",
    "    while j<=i:\n",
    "        print(p,end='')\n",
    "        j+=1\n",
    "        p+=1\n",
    "    print()\n",
    "    i+=1\n",
    "    "
   ]
  },
  {
   "cell_type": "raw",
   "id": "13137c65",
   "metadata": {},
   "source": [
    "# pattern \n",
    "1\n",
    "23\n",
    "456\n",
    "78910\n",
    "1112131415"
   ]
  },
  {
   "cell_type": "code",
   "execution_count": 5,
   "id": "dd496937",
   "metadata": {},
   "outputs": [
    {
     "name": "stdout",
     "output_type": "stream",
     "text": [
      "enter the number of rows5\n",
      "1\n",
      "23\n",
      "456\n",
      "78910\n",
      "1112131415\n"
     ]
    }
   ],
   "source": [
    "n=int(input(\"enter the number of rows\"))\n",
    "i=1\n",
    "p=1\n",
    "while i<=n:\n",
    "    j=1\n",
    "    while j<=i:\n",
    "        print(p,end='')\n",
    "        j+=1\n",
    "        p=p+1\n",
    "    print()\n",
    "    i+=1\n",
    "    \n",
    "    "
   ]
  },
  {
   "cell_type": "code",
   "execution_count": 6,
   "id": "83610f2d",
   "metadata": {},
   "outputs": [
    {
     "name": "stdout",
     "output_type": "stream",
     "text": [
      "enter the number of rows4\n",
      "*\n",
      "**\n",
      "***\n",
      "****\n"
     ]
    }
   ],
   "source": [
    "n=int(input(\"enter the number of rows\"))\n",
    "i=1\n",
    "while i<=n:\n",
    "    j=1\n",
    "    while j<=i:\n",
    "        print(\"*\",end='')\n",
    "        j+=1\n",
    "    print()\n",
    "    i+=1\n",
    "    "
   ]
  },
  {
   "cell_type": "code",
   "execution_count": 7,
   "id": "f776f49a",
   "metadata": {},
   "outputs": [
    {
     "name": "stdout",
     "output_type": "stream",
     "text": [
      "enter the number of rows4\n",
      "1\n",
      "22\n",
      "333\n",
      "4444\n"
     ]
    }
   ],
   "source": [
    "n=int(input(\"enter the number of rows\"))\n",
    "i=1\n",
    "while i<=n:\n",
    "    j=1\n",
    "    while j<=i:\n",
    "        print(i,end='')\n",
    "        j+=1\n",
    "    print()\n",
    "    i+=1"
   ]
  },
  {
   "cell_type": "raw",
   "id": "03c2b19a",
   "metadata": {},
   "source": [
    "4\n",
    "1\n",
    "21\n",
    "321\n",
    "4321"
   ]
  },
  {
   "cell_type": "code",
   "execution_count": 8,
   "id": "d3066feb",
   "metadata": {},
   "outputs": [
    {
     "name": "stdout",
     "output_type": "stream",
     "text": [
      "4\n",
      "1\n",
      "21\n",
      "321\n",
      "4321\n"
     ]
    }
   ],
   "source": [
    "# revesre pattern question\n",
    "n=int(input())\n",
    "i=1\n",
    "while i<=n:\n",
    "    j=1\n",
    "    p=i\n",
    "    while j<=i:\n",
    "        print(p, end='')\n",
    "        j+=1\n",
    "        p-=1\n",
    "    print()\n",
    "    i+=1\n",
    "    "
   ]
  },
  {
   "cell_type": "markdown",
   "id": "31939782",
   "metadata": {},
   "source": [
    "# charecter patterns"
   ]
  },
  {
   "cell_type": "raw",
   "id": "0560c885",
   "metadata": {},
   "source": [
    "##printing the charecter pattern\n",
    "A B C D\n",
    "A B C D\n",
    "A B C D\n",
    "A B C D\n"
   ]
  },
  {
   "cell_type": "code",
   "execution_count": 16,
   "id": "d66966bf",
   "metadata": {},
   "outputs": [
    {
     "name": "stdout",
     "output_type": "stream",
     "text": [
      "4\n",
      "A B C D \n",
      "A B C D \n",
      "A B C D \n",
      "A B C D \n"
     ]
    }
   ],
   "source": [
    "#to find the kth value of the charecter \n",
    "a=int(input())\n",
    "i=1\n",
    "while i<=a:\n",
    "    j=1\n",
    "    while j<=a:\n",
    "        p=chr(ord(\"A\")+j-1) # here we are first finding the ascii value corresponding to the character then convert it into value associated with the value\n",
    "        print(p,'',end='')\n",
    "        j+=1\n",
    "    print()\n",
    "    i+=1"
   ]
  },
  {
   "cell_type": "raw",
   "id": "19dbcd4e",
   "metadata": {},
   "source": [
    "# print the given pattern \n",
    "\n",
    "\n",
    "A B C D \n",
    "B C D E \n",
    "C D E F \n",
    "D E F G "
   ]
  },
  {
   "cell_type": "code",
   "execution_count": 19,
   "id": "ae1a2777",
   "metadata": {},
   "outputs": [
    {
     "name": "stdout",
     "output_type": "stream",
     "text": [
      "5\n",
      "A B C D E \n",
      "B C D E F \n",
      "C D E F G \n",
      "D E F G H \n",
      "E F G H I \n"
     ]
    }
   ],
   "source": [
    "a=int(input())\n",
    "i=1\n",
    "while i<=a:\n",
    "    start=chr(ord(\"A\")+i-1)\n",
    "    j=1\n",
    "    while j<=a:\n",
    "        p=chr(ord(start)+j-1) # here we are first finding the ascii value corresponding to the character then convert it into value associated with the value\n",
    "        print(p,'',end='')\n",
    "        j+=1\n",
    "    print()\n",
    "    i+=1"
   ]
  },
  {
   "cell_type": "raw",
   "id": "f616352a",
   "metadata": {},
   "source": [
    "#print this for 4 number of rows\n",
    "A \n",
    "B C \n",
    "C D E \n",
    "D E F G \n",
    "E F G H I "
   ]
  },
  {
   "cell_type": "code",
   "execution_count": 36,
   "id": "af71aa91",
   "metadata": {},
   "outputs": [
    {
     "name": "stdout",
     "output_type": "stream",
     "text": [
      "5\n",
      "A \n",
      "B C \n",
      "C D E \n",
      "D E F G \n",
      "E F G H I \n"
     ]
    }
   ],
   "source": [
    "a=int(input())\n",
    "i=1\n",
    "while i<=a:\n",
    "    j=1\n",
    "    p=ord(\"A\")+i-1\n",
    "    while j<=i:\n",
    "        print(chr(p),'',end='')\n",
    "        p+=1\n",
    "        j+=1\n",
    "    \n",
    "    print()\n",
    "    i+=1"
   ]
  },
  {
   "cell_type": "raw",
   "id": "7f6fbafd",
   "metadata": {},
   "source": [
    "D\n",
    "CD\n",
    "BCD\n",
    "ABCD                     "
   ]
  },
  {
   "cell_type": "code",
   "execution_count": 1,
   "id": "0d6c91b4",
   "metadata": {},
   "outputs": [
    {
     "name": "stdout",
     "output_type": "stream",
     "text": [
      "D\n",
      "CD\n",
      "BCD\n",
      "ABCD\n"
     ]
    }
   ],
   "source": [
    "n=int(input())\n",
    "i=1\n",
    "while i<=n:\n",
    "    j=1\n",
    "    p=ord(\"A\")+n-i # here we subtracting the ascii value from number rows\n",
    "    while j<=i:\n",
    "        print(chr(p),end='')\n",
    "        p+=1\n",
    "        j+=1\n",
    "    print()\n",
    "    i+=1\n",
    "    "
   ]
  },
  {
   "cell_type": "raw",
   "id": "1c510ca9",
   "metadata": {},
   "source": [
    "\"\"\"A \n",
    "B B \n",
    "C C C \"\"\""
   ]
  },
  {
   "cell_type": "code",
   "execution_count": 1,
   "id": "3c2d1241",
   "metadata": {},
   "outputs": [
    {
     "name": "stdout",
     "output_type": "stream",
     "text": [
      "4\n",
      "A \n",
      "B B \n",
      "C C C \n",
      "D D D D \n"
     ]
    }
   ],
   "source": [
    "n=int(input())\n",
    "i=1\n",
    "while i<=n:\n",
    "    j=1\n",
    "    while j<=i:\n",
    "        p=chr(ord(\"A\")+i-1)\n",
    "        print(p,\"\",end=\"\")\n",
    "        j+=1\n",
    "    i+=1\n",
    "  \n",
    "    print()"
   ]
  },
  {
   "cell_type": "raw",
   "id": "4c120b7a",
   "metadata": {},
   "source": [
    "***\n",
    "**\n",
    "*"
   ]
  },
  {
   "cell_type": "code",
   "execution_count": 5,
   "id": "3cb682ab",
   "metadata": {},
   "outputs": [
    {
     "name": "stdout",
     "output_type": "stream",
     "text": [
      "3\n",
      "***\n",
      "**\n",
      "*\n"
     ]
    }
   ],
   "source": [
    "n=int(input())\n",
    "i=1\n",
    "while i<=n:\n",
    "    j=1\n",
    "    while j<=n-i+1:\n",
    "        print(\"*\",end='')\n",
    "        j+=1\n",
    "\n",
    "    i+=1\n",
    "    print()\n",
    "    \n",
    "    "
   ]
  },
  {
   "cell_type": "raw",
   "id": "f9ca535d",
   "metadata": {},
   "source": [
    "1 1 1 1 1 \n",
    "2 2 2 2 \n",
    "3 3 3 \n",
    "4 4 \n",
    "5 "
   ]
  },
  {
   "cell_type": "code",
   "execution_count": 8,
   "id": "a83c0cbd",
   "metadata": {},
   "outputs": [
    {
     "name": "stdout",
     "output_type": "stream",
     "text": [
      "enter the number of rows:4\n",
      "1 1 1 1 \n",
      "2 2 2 \n",
      "3 3 \n",
      "4 \n"
     ]
    }
   ],
   "source": [
    "n=int(input(\"enter the number of rows:\"))\n",
    "i=1\n",
    "while i<=n:\n",
    "    j=1\n",
    "    while j<=n-i+1:\n",
    "        print(i,\"\",end='')\n",
    "        j+=1\n",
    "    i+=1\n",
    "    print()"
   ]
  },
  {
   "cell_type": "raw",
   "id": "9e7db918",
   "metadata": {},
   "source": [
    " *\n",
    " **\n",
    "***"
   ]
  },
  {
   "cell_type": "code",
   "execution_count": 10,
   "id": "076880ac",
   "metadata": {},
   "outputs": [
    {
     "name": "stdout",
     "output_type": "stream",
     "text": [
      "3\n",
      "  *\n",
      " **\n",
      "***\n"
     ]
    }
   ],
   "source": [
    "n=int(input())\n",
    "i=1\n",
    "while i<=n:\n",
    "    whitespace=1\n",
    "    while whitespace<=n-i:\n",
    "        print(\" \",end=\"\")\n",
    "        whitespace+=1\n",
    "    j=1\n",
    "    while j<=i:\n",
    "        print(\"*\",end='')\n",
    "        j+=1\n",
    "    i+=1\n",
    "    print()"
   ]
  },
  {
   "cell_type": "raw",
   "id": "510574a6",
   "metadata": {},
   "source": [
    "mirror number pattern \n",
    "  1\n",
    " 12\n",
    "123"
   ]
  },
  {
   "cell_type": "code",
   "execution_count": 13,
   "id": "fc815ef4",
   "metadata": {},
   "outputs": [
    {
     "name": "stdout",
     "output_type": "stream",
     "text": [
      "3\n",
      "  1\n",
      " 12\n",
      "123\n"
     ]
    }
   ],
   "source": [
    "n=int(input())\n",
    "i=1\n",
    "while i<=n:\n",
    "    space=1\n",
    "    while space<=n-i:\n",
    "        print(\" \" ,end='')\n",
    "        space+=1\n",
    "    start=1\n",
    "    while start<=i:\n",
    "        print(start,end='')\n",
    "        start+=1\n",
    "    i+=1\n",
    "    print()\n",
    "    "
   ]
  },
  {
   "cell_type": "raw",
   "id": "6ba2887f",
   "metadata": {},
   "source": [
    " #isoscale triangle \n",
    "  1                \n",
    " 121           \n",
    "1234321\n",
    "# split the problem into subproblem and then solved "
   ]
  },
  {
   "cell_type": "code",
   "execution_count": 15,
   "id": "326a020f",
   "metadata": {},
   "outputs": [
    {
     "name": "stdout",
     "output_type": "stream",
     "text": [
      "5\n",
      "    1\n",
      "   121\n",
      "  12321\n",
      " 1234321\n",
      "123454321\n"
     ]
    }
   ],
   "source": [
    "n=int(input())\n",
    "i=1\n",
    "while i<=n:\n",
    "    spaces=1\n",
    "    p=1\n",
    "    #white spaces \n",
    "    while spaces<=n-i:\n",
    "        print(\" \",end='')\n",
    "        spaces+=1\n",
    "        p+=1\n",
    "    j=1\n",
    "    #increment \n",
    "    while j<=i:\n",
    "        print(j,end='')\n",
    "        j+=1\n",
    "    p=i-1\n",
    "    # decrement\n",
    "    while p>=1: # as long as p is greater than 1 \n",
    "        print(p,end='')\n",
    "        p=p-1\n",
    "        \n",
    "    i+=1\n",
    "    print()\n",
    "    \n",
    "    "
   ]
  },
  {
   "cell_type": "code",
   "execution_count": 30,
   "id": "fffacd3e",
   "metadata": {},
   "outputs": [
    {
     "name": "stdout",
     "output_type": "stream",
     "text": [
      "4\n",
      "   1\n",
      "  222\n",
      " 33344\n",
      "4444666\n"
     ]
    }
   ],
   "source": [
    "n=int(input())\n",
    "i=1\n",
    "while i<=n:\n",
    "    spaces=1\n",
    "    while spaces<=n-i:\n",
    "        print(\" \",end='')\n",
    "        spaces+=1\n",
    "    j=1\n",
    "    while j<=i:\n",
    "        print(i,end='')\n",
    "        j+=1\n",
    "    p=1\n",
    "    while p<=i-1: # number of counts \n",
    "        print(2*i-2 , end='') # element to be printed \n",
    "        p+=1   \n",
    "    i+=1\n",
    "    print()\n",
    "        "
   ]
  },
  {
   "cell_type": "code",
   "execution_count": 33,
   "id": "ddf12303",
   "metadata": {},
   "outputs": [
    {
     "name": "stdout",
     "output_type": "stream",
     "text": [
      "5\n",
      "    1\n",
      "   232\n",
      "  34543\n",
      " 4567654\n",
      "567898765\n"
     ]
    }
   ],
   "source": [
    "n = int(input())\n",
    "i = 1\n",
    "\n",
    "while i <= n:\n",
    "    spaces = 1\n",
    "    while spaces <= n - i:\n",
    "        print(\" \", end='')\n",
    "        spaces += 1\n",
    "    \n",
    "    j = 1\n",
    "    while j <= i:\n",
    "        print(i + j - 1, end='')  # Adjusted to print increasing numbers\n",
    "        j += 1\n",
    "\n",
    "    p = 1\n",
    "    while p <= i - 1:\n",
    "        print(i + j - p - 2, end='')  # Adjusted to print decreasing numbers\n",
    "        p += 1\n",
    "        \n",
    "    i += 1\n",
    "    print()\n"
   ]
  },
  {
   "cell_type": "code",
   "execution_count": 56,
   "id": "13f4ae84",
   "metadata": {},
   "outputs": [
    {
     "name": "stdout",
     "output_type": "stream",
     "text": [
      "enter total number of rows:7\n",
      "4\n",
      "3\n",
      "      *\n",
      "    ***\n",
      "  *****\n",
      "*******\n"
     ]
    }
   ],
   "source": [
    "n=int(input(\"enter total number of rows:\"))\n",
    "n1=(n+1)//2\n",
    "n2=n1-1\n",
    "print(n1)\n",
    "print(n2)\n",
    "i=1\n",
    "while i<=n1:\n",
    "    spaces=1\n",
    "    while spaces<=n1-i:\n",
    "        print(\"  \",end='')\n",
    "        spaces+=1\n",
    "    j=1\n",
    "    while j<=2*i-1:\n",
    "        print(\"*\", end='')\n",
    "        j+=1\n",
    "    i+=1\n",
    "    print()\n",
    "while i<=n2:\n",
    "    spaces=1\n",
    "    while spaces<=i:\n",
    "        print(\"  \",end='')\n",
    "        spaces+=1\n",
    "    while j <= 2 * (n2 - i) + 1:\n",
    "        print(\"*\",  end='')\n",
    "        j += 1\n",
    "    i += 1\n",
    "    print()\n",
    "    \n",
    "\n"
   ]
  },
  {
   "cell_type": "code",
   "execution_count": 57,
   "id": "05aab093",
   "metadata": {},
   "outputs": [
    {
     "name": "stdout",
     "output_type": "stream",
     "text": [
      "Enter total number of rows:7\n",
      "4\n",
      "3\n",
      "   *\n",
      "  ***\n",
      " *****\n",
      "*******\n",
      " *****\n",
      "  ***\n",
      "   *\n"
     ]
    }
   ],
   "source": [
    "n = int(input(\"Enter total number of rows:\"))\n",
    "n1 = (n + 1) // 2\n",
    "n2 = n1 - 1\n",
    "print(n1)\n",
    "print(n2)\n",
    "\n",
    "# First half of the pattern\n",
    "i = 1\n",
    "while i <= n1:\n",
    "    spaces = 1\n",
    "    while spaces <= n1 - i:\n",
    "        print(\" \", end='')\n",
    "        spaces += 1\n",
    "    j = 1\n",
    "    while j <= 2 * i - 1:\n",
    "        print(\"*\", end='')\n",
    "        j += 1\n",
    "    i += 1\n",
    "    print()\n",
    "\n",
    "# Second half of the pattern\n",
    "i = 1\n",
    "while i <= n2:\n",
    "    spaces = 1\n",
    "    while spaces <= i:\n",
    "        print(\" \", end='')\n",
    "        spaces += 1\n",
    "    j = 1\n",
    "    while j <= 2 * (n2 - i) + 1:\n",
    "        print(\"*\", end='')\n",
    "        j += 1\n",
    "    i += 1\n",
    "    print()\n"
   ]
  },
  {
   "cell_type": "code",
   "execution_count": 58,
   "id": "a2d31c3e",
   "metadata": {},
   "outputs": [
    {
     "name": "stdout",
     "output_type": "stream",
     "text": [
      "enter total number of rows:9\n",
      "5\n",
      "4\n",
      "        *\n",
      "      ***\n",
      "    *****\n",
      "  *******\n",
      "*********\n"
     ]
    }
   ],
   "source": [
    "n=int(input(\"enter total number of rows:\"))\n",
    "n1=(n+1)//2\n",
    "n2=n1-1\n",
    "print(n1)\n",
    "print(n2)\n",
    "i=1\n",
    "while i<=n1:\n",
    "    spaces=1\n",
    "    while spaces<=n1-i:\n",
    "        print(\"  \",end='')\n",
    "        spaces+=1\n",
    "    j=1\n",
    "    while j<=2*i-1:\n",
    "        print(\"*\", end='')\n",
    "        j+=1\n",
    "    i+=1\n",
    "    print()\n",
    "while i<=n2:\n",
    "    spaces=1\n",
    "    while spaces<=i:\n",
    "        print(\"  \",end='')\n",
    "        spaces+=1\n",
    "    while j <= 2 * (n2 - i) + 1:\n",
    "        print(\"*\",  end='')\n",
    "        j += 1\n",
    "    i += 1\n",
    "    print()\n",
    "    \n",
    "\n"
   ]
  },
  {
   "cell_type": "raw",
   "id": "a2bee24e",
   "metadata": {},
   "source": [
    "1      1\n",
    "12    21\n",
    "123  321  \n",
    "12344321"
   ]
  },
  {
   "cell_type": "code",
   "execution_count": 18,
   "id": "80ad9680",
   "metadata": {},
   "outputs": [
    {
     "name": "stdout",
     "output_type": "stream",
     "text": [
      "enter the number of rows:5\n",
      "1                1\n",
      "12            21\n",
      "123        321\n",
      "1234    4321\n",
      "1234554321\n"
     ]
    }
   ],
   "source": [
    "n=int(input(\"enter the number of rows:\"))\n",
    "i=1\n",
    "while i<=n:\n",
    "    j=1\n",
    "    while j<=i:\n",
    "        print(j,end='')\n",
    "        j+=1\n",
    "        \n",
    "        \n",
    "    spaces=1\n",
    "    while spaces<=(2*n-2*i):\n",
    "        print(\"  \", end='')\n",
    "        spaces+=1\n",
    "\n",
    "\n",
    "    p = i\n",
    "    while p >= 1:\n",
    "        print(p, end='')\n",
    "        p -= 1\n",
    "\n",
    "    print()\n",
    "    i+=1\n",
    "    "
   ]
  },
  {
   "cell_type": "raw",
   "id": "e142bda4",
   "metadata": {},
   "source": [
    " *\n",
    " **\n",
    "  ***\n",
    "   ****\n",
    "***\n",
    "**\n",
    "*"
   ]
  },
  {
   "cell_type": "code",
   "execution_count": 8,
   "id": "51686065",
   "metadata": {},
   "outputs": [
    {
     "name": "stdout",
     "output_type": "stream",
     "text": [
      "enter the number of rows:9\n",
      "5\n",
      "4\n",
      "*\n",
      " **\n",
      "  ***\n",
      "   ****\n",
      "    *****\n",
      "****\n",
      "***\n",
      "**\n",
      "*\n"
     ]
    }
   ],
   "source": [
    "n=int(input(\"enter the number of rows:\"))\n",
    "n1=(n+1)//2\n",
    "n2=(n1-1)\n",
    "print(n1)\n",
    "print(n2)\n",
    "\n",
    "i=1\n",
    "\n",
    "while i<=n1:\n",
    "    spaces=1\n",
    "    while spaces<=i-1:\n",
    "        print(\" \",end='')\n",
    "        spaces+=1\n",
    "    j=1\n",
    "    while j<=i:\n",
    "        print(\"*\",end='')\n",
    "        j+=1\n",
    "    print()\n",
    "    i+=1\n",
    "i=1   \n",
    "while i<=n2:\n",
    "    spaces=1\n",
    "    while spaces<=n2-i:\n",
    "        print(\"\",end='')\n",
    "        spaces+=1\n",
    "    p=1\n",
    "    while p<=n2-i+1:\n",
    "        print(\"*\",end='')\n",
    "        p+=1\n",
    "    print()\n",
    "    i+=1\n",
    "        "
   ]
  },
  {
   "cell_type": "code",
   "execution_count": 12,
   "id": "f7d49b25",
   "metadata": {},
   "outputs": [
    {
     "name": "stdout",
     "output_type": "stream",
     "text": [
      "enter the number of rows:5\n",
      "    1\n",
      "   232\n",
      "  34543\n",
      " 4567654\n",
      "567898765\n"
     ]
    }
   ],
   "source": [
    "n=int(input(\"enter the number of rows:\"))\n",
    "for i in range(1,n+1,1):\n",
    "    for j in range(n-i):\n",
    "        print(\" \",end='')\n",
    "    for k in range(i,2*i):\n",
    "        print(k,end='')\n",
    "    for p in range(2*i-2,i-1,-1):\n",
    "        print(p,end='')\n",
    "    print()"
   ]
  },
  {
   "cell_type": "code",
   "execution_count": null,
   "id": "b339671e",
   "metadata": {},
   "outputs": [],
   "source": []
  }
 ],
 "metadata": {
  "kernelspec": {
   "display_name": "Python 3 (ipykernel)",
   "language": "python",
   "name": "python3"
  },
  "language_info": {
   "codemirror_mode": {
    "name": "ipython",
    "version": 3
   },
   "file_extension": ".py",
   "mimetype": "text/x-python",
   "name": "python",
   "nbconvert_exporter": "python",
   "pygments_lexer": "ipython3",
   "version": "3.11.3"
  }
 },
 "nbformat": 4,
 "nbformat_minor": 5
}
